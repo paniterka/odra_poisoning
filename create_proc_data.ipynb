{
 "cells": [
  {
   "cell_type": "code",
   "execution_count": 1,
   "id": "d00cd5f8",
   "metadata": {},
   "outputs": [],
   "source": [
    "import pandas as pd \n",
    "import os "
   ]
  },
  {
   "cell_type": "markdown",
   "id": "3979403c",
   "metadata": {},
   "source": [
    "Required: pandas 1.4.2"
   ]
  },
  {
   "cell_type": "code",
   "execution_count": 19,
   "id": "e7b81a80",
   "metadata": {},
   "outputs": [],
   "source": [
    "def convert_dayfloat_to_day(array_of_floats, start_day):\n",
    "    day_start = pd.to_datetime(start_day)\n",
    "    out = pd.to_timedelta(array_of_floats, unit='D')+day_start\n",
    "    return out "
   ]
  },
  {
   "cell_type": "code",
   "execution_count": 39,
   "id": "1c2548ac",
   "metadata": {},
   "outputs": [],
   "source": [
    "src_dir = 'src_data'\n",
    "proc_dir = 'proc_data'"
   ]
  },
  {
   "cell_type": "code",
   "execution_count": 41,
   "id": "410945fc",
   "metadata": {},
   "outputs": [],
   "source": [
    "names = ['day_num', 'value']"
   ]
  },
  {
   "cell_type": "code",
   "execution_count": 40,
   "id": "031532b1",
   "metadata": {},
   "outputs": [],
   "source": [
    "for f in [f for f in os.listdir(src_dir) if f.endswith('.csv')]:\n",
    "    fn = os.path.join(src_dir, f)\n",
    "    df = pd.read_csv(fn, names=names)\n",
    "    df['day'] = convert_dayfloat_to_day(df['day_num'], '2022-07-13')\n",
    "    df.to_csv(os.path.join(proc_dir, f), index=False)"
   ]
  }
 ],
 "metadata": {
  "hide_input": false,
  "kernelspec": {
   "display_name": "Python 3 (ipykernel)",
   "language": "python",
   "name": "python3"
  },
  "language_info": {
   "codemirror_mode": {
    "name": "ipython",
    "version": 3
   },
   "file_extension": ".py",
   "mimetype": "text/x-python",
   "name": "python",
   "nbconvert_exporter": "python",
   "pygments_lexer": "ipython3",
   "version": "3.8.10"
  }
 },
 "nbformat": 4,
 "nbformat_minor": 5
}
